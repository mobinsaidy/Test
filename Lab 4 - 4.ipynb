{
  "nbformat": 4,
  "nbformat_minor": 0,
  "metadata": {
    "colab": {
      "name": "Untitled2.ipynb",
      "provenance": [],
      "collapsed_sections": [],
      "authorship_tag": "ABX9TyPnOcQES0ykjI5hJyvILBVd",
      "include_colab_link": true
    },
    "kernelspec": {
      "name": "python3",
      "display_name": "Python 3"
    }
  },
  "cells": [
    {
      "cell_type": "markdown",
      "metadata": {
        "id": "view-in-github",
        "colab_type": "text"
      },
      "source": [
        "<a href=\"https://colab.research.google.com/github/mobinsaidy/Test/blob/main/Lab%204%20-%204.ipynb\" target=\"_parent\"><img src=\"https://colab.research.google.com/assets/colab-badge.svg\" alt=\"Open In Colab\"/></a>"
      ]
    },
    {
      "cell_type": "code",
      "metadata": {
        "id": "6G5jgg7I002n"
      },
      "source": [
        "import matplotlib.pyplot as plt\r\n",
        "import pandas as pd\r\n",
        "import numpy as np"
      ],
      "execution_count": 1,
      "outputs": []
    },
    {
      "cell_type": "code",
      "metadata": {
        "id": "cUYag1db038E"
      },
      "source": [
        "I =np.array([0,20,60,80,140,200,280,300])\r\n",
        "I1 = np.array([20,60,80,140,200,280,300])\r\n",
        "UG = np.array([0.776,0.770,0.734,0.725,0.680,0.648,0.609,0.601])\r\n",
        "UB = np.array([1.013, 1.006, 1.001, 0.992, 0.983, 0.975, 0.973])"
      ],
      "execution_count": 17,
      "outputs": []
    },
    {
      "cell_type": "code",
      "metadata": {
        "colab": {
          "base_uri": "https://localhost:8080/",
          "height": 491
        },
        "id": "wFxK23k41m2r",
        "outputId": "77914fa2-a6d7-4452-eb75-44ea0bcb9c39"
      },
      "source": [
        "plt.plot(-1*UG,I, label =\"Green\", color = \"g\", marker =\"o\")\r\n",
        "plt.plot(-1*UB,I1, label = \"Blue\", color = \"b\", marker = \"o\")\r\n",
        "plt.xlabel(\"U(V)\")\r\n",
        "plt.ylabel(\"I(microA)\")\r\n",
        "plt.yticks(0,300,1)\r\n",
        "plt.legend()\r\n",
        "plt.show()"
      ],
      "execution_count": 22,
      "outputs": [
        {
          "output_type": "error",
          "ename": "TypeError",
          "evalue": "ignored",
          "traceback": [
            "\u001b[0;31m---------------------------------------------------------------------------\u001b[0m",
            "\u001b[0;31mTypeError\u001b[0m                                 Traceback (most recent call last)",
            "\u001b[0;32m<ipython-input-22-ec01f98f2749>\u001b[0m in \u001b[0;36m<module>\u001b[0;34m()\u001b[0m\n\u001b[1;32m      3\u001b[0m \u001b[0mplt\u001b[0m\u001b[0;34m.\u001b[0m\u001b[0mxlabel\u001b[0m\u001b[0;34m(\u001b[0m\u001b[0;34m\"U(V)\"\u001b[0m\u001b[0;34m)\u001b[0m\u001b[0;34m\u001b[0m\u001b[0;34m\u001b[0m\u001b[0m\n\u001b[1;32m      4\u001b[0m \u001b[0mplt\u001b[0m\u001b[0;34m.\u001b[0m\u001b[0mylabel\u001b[0m\u001b[0;34m(\u001b[0m\u001b[0;34m\"I(microA)\"\u001b[0m\u001b[0;34m)\u001b[0m\u001b[0;34m\u001b[0m\u001b[0;34m\u001b[0m\u001b[0m\n\u001b[0;32m----> 5\u001b[0;31m \u001b[0mplt\u001b[0m\u001b[0;34m.\u001b[0m\u001b[0myticks\u001b[0m\u001b[0;34m(\u001b[0m\u001b[0;36m0\u001b[0m\u001b[0;34m,\u001b[0m\u001b[0;36m300\u001b[0m\u001b[0;34m,\u001b[0m\u001b[0;36m1\u001b[0m\u001b[0;34m)\u001b[0m\u001b[0;34m\u001b[0m\u001b[0;34m\u001b[0m\u001b[0m\n\u001b[0m\u001b[1;32m      6\u001b[0m \u001b[0mplt\u001b[0m\u001b[0;34m.\u001b[0m\u001b[0mlegend\u001b[0m\u001b[0;34m(\u001b[0m\u001b[0;34m)\u001b[0m\u001b[0;34m\u001b[0m\u001b[0;34m\u001b[0m\u001b[0m\n\u001b[1;32m      7\u001b[0m \u001b[0mplt\u001b[0m\u001b[0;34m.\u001b[0m\u001b[0mshow\u001b[0m\u001b[0;34m(\u001b[0m\u001b[0;34m)\u001b[0m\u001b[0;34m\u001b[0m\u001b[0;34m\u001b[0m\u001b[0m\n",
            "\u001b[0;31mTypeError\u001b[0m: yticks() takes from 0 to 2 positional arguments but 3 were given"
          ]
        },
        {
          "output_type": "display_data",
          "data": {
            "image/png": "[encoded data removed]",
            "text/plain": [
              "<Figure size 432x288 with 1 Axes>"
            ]
          },
          "metadata": {
            "tags": [],
            "needs_background": "light"
          }
        }
      ]
    },
    {
      "cell_type": "code",
      "metadata": {
        "colab": {
          "base_uri": "https://localhost:8080/"
        },
        "id": "l-0uf2fh2Dm0",
        "outputId": "c4923bcd-19a6-4e07-b044-9a6246e4519f"
      },
      "source": [
        "UB"
      ],
      "execution_count": 15,
      "outputs": [
        {
          "output_type": "execute_result",
          "data": {
            "text/plain": [
              "array([0.   , 1.013, 1.006, 1.001, 0.992, 0.983, 0.975, 0.973])"
            ]
          },
          "metadata": {
            "tags": []
          },
          "execution_count": 15
        }
      ]
    },
    {
      "cell_type": "code",
      "metadata": {
        "id": "P5vYJB4k3ozK"
      },
      "source": [
        "F = np.array([5.19,5.49,6.88])\r\n",
        "U0 = np.array([0.59,0.7,1.23])"
      ],
      "execution_count": 39,
      "outputs": []
    },
    {
      "cell_type": "code",
      "metadata": {
        "colab": {
          "base_uri": "https://localhost:8080/",
          "height": 279
        },
        "id": "NWwcTkrZ5k9-",
        "outputId": "2f6986c2-260f-4821-824d-9d853287abb1"
      },
      "source": [
        "plt.plot(F,U0, color = \"m\", marker =\"o\")\r\n",
        "plt.xlabel(\"F(Hz)*10^14\")\r\n",
        "plt.ylabel(\"U0(v)\")\r\n",
        "plt.show()"
      ],
      "execution_count": 25,
      "outputs": [
        {
          "output_type": "display_data",
          "data": {
            "image/png": "[encoded data removed]",
            "text/plain": [
              "<Figure size 432x288 with 1 Axes>"
            ]
          },
          "metadata": {
            "tags": [],
            "needs_background": "light"
          }
        }
      ]
    },
    {
      "cell_type": "code",
      "metadata": {
        "colab": {
          "base_uri": "https://localhost:8080/"
        },
        "id": "ydG0_4Y36ANc",
        "outputId": "e17c7281-d531-43d0-9a8e-66b45d7f2608"
      },
      "source": [
        "from sklearn import datasets, linear_model\r\n",
        "reg1 = linear_model.LinearRegression()\r\n",
        "reg1.fit(F.reshape(-1,1),U0.reshape(-1,1))\r\n",
        "m1 = float(reg1.coef_)\r\n",
        "b1 = float(reg1.intercept_)\r\n",
        "print(m1,b1)"
      ],
      "execution_count": 40,
      "outputs": [
        {
          "output_type": "stream",
          "text": [
            "0.37950473535320417 -1.3813677176007548\n"
          ],
          "name": "stdout"
        }
      ]
    },
    {
      "cell_type": "code",
      "metadata": {
        "colab": {
          "base_uri": "https://localhost:8080/",
          "height": 279
        },
        "id": "B0DkqCfT6P_i",
        "outputId": "b6ba140d-fca4-410b-f068-1408ba41f7d7"
      },
      "source": [
        "dom = np.arange(5,8,0.001)\r\n",
        "plt.plot(dom ,m1*dom + b1  , label = \"Fited Line\" , c = \"b\")\r\n",
        "\r\n",
        "plt.plot(F,U0, color = \"m\", marker =\"o\" , label = \"Real Data\")\r\n",
        "plt.xlabel(\"F(Hz)*10^14\")\r\n",
        "plt.ylabel(\"U0(v)\")\r\n",
        "plt.legend()\r\n",
        "plt.show()"
      ],
      "execution_count": 41,
      "outputs": [
        {
          "output_type": "display_data",
          "data": {
            "image/png": "[encoded data removed]",
            "text/plain": [
              "<Figure size 432x288 with 1 Axes>"
            ]
          },
          "metadata": {
            "tags": [],
            "needs_background": "light"
          }
        }
      ]
    },
    {
      "cell_type": "code",
      "metadata": {
        "colab": {
          "base_uri": "https://localhost:8080/"
        },
        "id": "_SzMvWfX6und",
        "outputId": "71297f52-b688-443e-94c9-898ffae34a43"
      },
      "source": [
        "m = m1*10**-14\r\n",
        "e = 1.6*10**-19\r\n",
        "h = e*m\r\n",
        "print(h)"
      ],
      "execution_count": 42,
      "outputs": [
        {
          "output_type": "stream",
          "text": [
            "6.072075765651267e-34\n"
          ],
          "name": "stdout"
        }
      ]
    },
    {
      "cell_type": "code",
      "metadata": {
        "id": "fLmsTxe-7qrm"
      },
      "source": [
        ""
      ],
      "execution_count": null,
      "outputs": []
    }
  ]
}